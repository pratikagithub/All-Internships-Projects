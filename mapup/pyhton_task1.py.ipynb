{
 "cells": [
  {
   "cell_type": "markdown",
   "id": "49dacb23",
   "metadata": {},
   "source": [
    "### 1. Car Matrix Generation"
   ]
  },
  {
   "cell_type": "code",
   "execution_count": 1,
   "id": "3426483b",
   "metadata": {},
   "outputs": [],
   "source": [
    "import pandas as pd"
   ]
  },
  {
   "cell_type": "code",
   "execution_count": 2,
   "id": "c0570ef0",
   "metadata": {},
   "outputs": [
    {
     "name": "stdout",
     "output_type": "stream",
     "text": [
      "id_2    801    802    803    804    805    806    807    808    809    821  \\\n",
      "id_1                                                                         \n",
      "801    0.00   2.80   6.00   7.70  11.70  13.40  16.90  19.60  21.00  23.52   \n",
      "802    2.80   0.00   3.40   5.20   9.20  10.90  14.30  17.10  18.50  20.92   \n",
      "803    6.00   3.40   0.00   2.00   6.00   7.70  11.10  13.90  15.30  17.72   \n",
      "804    7.70   5.20   2.00   0.00   4.40   6.10   9.50  12.30  13.70  16.12   \n",
      "805   11.70   9.20   6.00   4.40   0.00   2.00   5.40   8.20   9.60  12.02   \n",
      "806   13.40  10.90   7.70   6.10   2.00   0.00   3.80   6.60   8.00  10.42   \n",
      "807   16.90  14.30  11.10   9.50   5.40   3.80   0.00   2.90   4.30   6.82   \n",
      "808   19.60  17.10  13.90  12.30   8.20   6.60   2.90   0.00   1.70   4.12   \n",
      "809   21.00  18.50  15.30  13.70   9.60   8.00   4.30   1.70   0.00   2.92   \n",
      "821   23.52  20.92  17.72  16.12  12.02  10.42   6.82   4.12   2.92   0.00   \n",
      "822   24.67  22.07  18.87  17.27  13.17  11.57   7.97   5.27   4.07   1.80   \n",
      "823   26.53  23.93  20.73  19.13  15.03  13.43   9.83   7.13   5.93   3.67   \n",
      "824   27.92  25.32  22.12  20.52  16.42   7.80  11.22   8.52   7.32   5.06   \n",
      "825   29.08  26.48  23.28  21.68  17.58  15.98  12.38   9.68   8.48   6.22   \n",
      "826   30.87  28.27  25.07  23.47  19.37  17.77  14.17  11.47  10.27   8.01   \n",
      "827   32.53  29.93  26.73  25.13  21.03  19.43  15.83  13.13  11.93   9.43   \n",
      "829   36.32  33.72  30.52  28.92  24.82  23.22  19.62  16.92  15.72  13.26   \n",
      "830   38.27  35.67  32.47  30.87  26.77  25.17  21.57  18.87  17.67  15.17   \n",
      "831   39.24  36.64  33.44  31.84  27.74  26.14  22.54  19.84  18.64  16.15   \n",
      "\n",
      "id_2    822    823    824    825    826    827    829    830    831  \n",
      "id_1                                                                 \n",
      "801   24.67  26.53  27.92  29.08  30.87  32.53  36.32  38.27  39.24  \n",
      "802   22.07  23.93  25.32  26.48  28.27  29.93  33.72  35.67  36.64  \n",
      "803   18.87  20.73  22.12  23.28  25.07  26.73  30.52  32.47  33.44  \n",
      "804   17.27  19.13  20.52  21.68  23.47  25.13  28.92  30.87  31.84  \n",
      "805   13.17  15.03  16.42  17.58  19.37  21.03  24.82  26.77  27.74  \n",
      "806   11.57  13.43  14.82  15.98  17.77  19.43  23.22  25.17  26.14  \n",
      "807    7.97   9.83  11.22  12.38  14.17  15.83  19.62  21.57  22.54  \n",
      "808    5.27   7.13   8.52   9.68  11.47  13.13  16.92  18.87  19.84  \n",
      "809    4.07   5.93   7.32   8.48  10.27  11.93  15.72  17.67  18.64  \n",
      "821    1.80   3.67   5.06   6.22   8.01   9.43  13.26  15.17  16.15  \n",
      "822    0.00   2.21   3.60   4.76   6.55   8.00  11.81  13.74  14.68  \n",
      "823    2.21   0.00   1.79   2.94   4.74   6.15  10.00  11.89  12.87  \n",
      "824    3.60   1.79   0.00   1.71   3.50   4.92   8.77  10.66  11.64  \n",
      "825    4.76   2.94   1.71   0.00   2.20   3.65   7.46   9.35  10.33  \n",
      "826    6.55   4.74   3.50   2.20   0.00   2.05   5.81   7.71   8.69  \n",
      "827    8.00   6.15   4.92   3.65   2.05   0.00   4.14   6.06   7.04  \n",
      "829   11.81  10.00  21.40   7.46   5.81   4.14   0.00   2.38   3.36  \n",
      "830   13.74  11.89  10.66   0.00   7.71   6.06   2.38   0.00   1.39  \n",
      "831   14.68  12.87  11.64  10.33   8.69   7.04   3.36   1.39   0.00  \n"
     ]
    }
   ],
   "source": [
    "def generate_car_matrix(df):\n",
    "    # Pivot the DataFrame to create a matrix using id_1 as index, id_2 as columns, and car as values\n",
    "    pivot_df = df.pivot(index='id_1', columns='id_2', values='car')\n",
    "    \n",
    "    # Fill NaN values with 0\n",
    "    pivot_df = pivot_df.fillna(0)\n",
    "    \n",
    "    # Set diagonal values to 0\n",
    "    for i in range(min(pivot_df.shape)):\n",
    "        pivot_df.iloc[i, i] = 0\n",
    "    \n",
    "    return pivot_df\n",
    "\n",
    "# Read the dataset-1.csv file into a DataFrame\n",
    "file_path = 'C:\\\\Users\\\\HP\\\\Downloads\\\\dataset-1.csv'\n",
    "data = pd.read_csv(file_path)\n",
    "\n",
    "# Call the function with the DataFrame\n",
    "result = generate_car_matrix(data)\n",
    "print(result) "
   ]
  },
  {
   "cell_type": "markdown",
   "id": "05ce0667",
   "metadata": {},
   "source": [
    "### 2. Car Type Count Calculation"
   ]
  },
  {
   "cell_type": "code",
   "execution_count": 3,
   "id": "9fa27be9",
   "metadata": {},
   "outputs": [
    {
     "name": "stdout",
     "output_type": "stream",
     "text": [
      "{'high': 56, 'low': 196, 'medium': 89}\n"
     ]
    }
   ],
   "source": [
    "def get_type_count(df):\n",
    "    # Add a new categorical column 'car_type' based on values in the 'car' column\n",
    "    df['car_type'] = pd.cut(df['car'], bins=[float('-inf'), 15, 25, float('inf')], labels=['low', 'medium', 'high'])\n",
    "    \n",
    "    # Calculate count of occurrences for each 'car_type' category\n",
    "    type_counts = df['car_type'].value_counts().to_dict()\n",
    "    \n",
    "    # Sort the dictionary alphabetically based on keys\n",
    "    sorted_type_counts = dict(sorted(type_counts.items()))\n",
    "    \n",
    "    return sorted_type_counts\n",
    "\n",
    "# Read the dataset-1.csv file into a DataFrame\n",
    "file_path = 'C:\\\\Users\\\\HP\\\\Downloads\\\\dataset-1.csv'\n",
    "data = pd.read_csv(file_path)\n",
    "\n",
    "# Call the function with the DataFrame\n",
    "result = get_type_count(data)\n",
    "print(result)"
   ]
  },
  {
   "cell_type": "markdown",
   "id": "965eb059",
   "metadata": {},
   "source": [
    "### 3.Bus Count Index Retrieval"
   ]
  },
  {
   "cell_type": "code",
   "execution_count": 5,
   "id": "93540a87",
   "metadata": {},
   "outputs": [
    {
     "name": "stdout",
     "output_type": "stream",
     "text": [
      "[2, 7, 12, 17, 25, 30, 54, 64, 70, 97, 144, 145, 149, 154, 160, 201, 206, 210, 215, 234, 235, 245, 250, 309, 314, 319, 322, 323, 334, 340]\n"
     ]
    }
   ],
   "source": [
    "def get_bus_indexes(df):\n",
    "    # Calculate the mean value of the 'bus' column\n",
    "    mean_bus = df['bus'].mean()\n",
    "    \n",
    "    # Find indices where 'bus' values are greater than twice the mean\n",
    "    bus_indexes = df[df['bus'] > 2 * mean_bus].index.tolist()\n",
    "    \n",
    "    # Sort the indices in ascending order\n",
    "    bus_indexes.sort()\n",
    "    \n",
    "    return bus_indexes\n",
    "\n",
    "# Read the dataset-1.csv file into a DataFrame\n",
    "file_path = 'C:\\\\Users\\\\HP\\\\Downloads\\\\dataset-1.csv'\n",
    "data = pd.read_csv(file_path)\n",
    "\n",
    "# Call the function with the DataFrame\n",
    "result = get_bus_indexes(data)\n",
    "print(result)"
   ]
  },
  {
   "cell_type": "markdown",
   "id": "7bf5364a",
   "metadata": {},
   "source": [
    "### 4.Route Filtering"
   ]
  },
  {
   "cell_type": "code",
   "execution_count": 7,
   "id": "27854a6c",
   "metadata": {},
   "outputs": [
    {
     "name": "stdout",
     "output_type": "stream",
     "text": [
      "[1, 2, 3, 4, 5, 6, 7, 8, 9, 10]\n"
     ]
    }
   ],
   "source": [
    "def filter_routes(df):\n",
    "    # Group by 'route' column and calculate the average of 'truck' column for each route\n",
    "    route_avg_truck = df.groupby('route')['truck'].mean()\n",
    "    \n",
    "    # Filter routes where the average of 'truck' column is greater than 7\n",
    "    filtered_routes = route_avg_truck[route_avg_truck > 7].index.tolist()\n",
    "    \n",
    "    # Sort the list of routes in ascending order\n",
    "    filtered_routes.sort()\n",
    "    \n",
    "    return filtered_routes\n",
    "\n",
    "# Read the dataset-1.csv file into a DataFrame\n",
    "file_path = 'C:\\\\Users\\\\HP\\\\Downloads\\\\dataset-1.csv'\n",
    "data = pd.read_csv(file_path)\n",
    "\n",
    "# Call the function with the DataFrame\n",
    "result = filter_routes(data)\n",
    "print(result)"
   ]
  },
  {
   "cell_type": "markdown",
   "id": "cf3b178a",
   "metadata": {},
   "source": [
    "### 5.Matrix Value Modification"
   ]
  },
  {
   "cell_type": "code",
   "execution_count": 12,
   "id": "d80cae5d",
   "metadata": {},
   "outputs": [
    {
     "name": "stdout",
     "output_type": "stream",
     "text": [
      "     0     1     2\n",
      "0  1.2   2.5   3.8\n",
      "1  5.0   6.2   7.5\n",
      "2  8.8  10.0  11.2\n"
     ]
    }
   ],
   "source": [
    "def multiply_matrix(input_df):\n",
    "    modified_df = input_df.copy()  # Create a copy of the input DataFrame\n",
    "    \n",
    "    # Apply the multiplication logic based on the conditions\n",
    "    modified_df = modified_df.applymap(lambda x: x * 0.75 if x > 20 else x * 1.25)\n",
    "    \n",
    "    # Round the values to 1 decimal place\n",
    "    modified_df = modified_df.round(1)\n",
    "    \n",
    "    return modified_df\n",
    "\n",
    "# Assuming 'result' is a list of lists representing a matrix\n",
    "# Example list\n",
    "result = [\n",
    "    [1, 2, 3],\n",
    "    [4, 5, 6],\n",
    "    [7, 8, 9]\n",
    "]\n",
    "\n",
    "# Convert the list of lists to a DataFrame\n",
    "result_df = pd.DataFrame(result)\n",
    "\n",
    "# Assuming 'result' contains the DataFrame from Question 1\n",
    "modified_result = multiply_matrix(result_df)\n",
    "print(modified_result)"
   ]
  },
  {
   "cell_type": "markdown",
   "id": "b2a81f13",
   "metadata": {},
   "source": [
    "# 6.Time Check"
   ]
  },
  {
   "cell_type": "code",
   "execution_count": 15,
   "id": "fd4ddb49",
   "metadata": {},
   "outputs": [
    {
     "name": "stdout",
     "output_type": "stream",
     "text": [
      "id       id_2    \n",
      "1014000  -1          False\n",
      "1014002  -1          False\n",
      "1014003  -1          False\n",
      "1030000  -1          False\n",
      "          1030002    False\n",
      "                     ...  \n",
      "1330016   1330006    False\n",
      "          1330008    False\n",
      "          1330010    False\n",
      "          1330012    False\n",
      "          1330014    False\n",
      "Length: 9254, dtype: bool\n"
     ]
    }
   ],
   "source": [
    "def check_time_completeness(df):\n",
    "    # Convert timestamp columns to datetime objects\n",
    "    df['start_timestamp'] = pd.to_datetime(df['startDay'] + ' ' + df['startTime'], errors='coerce')\n",
    "    df['end_timestamp'] = pd.to_datetime(df['endDay'] + ' ' + df['endTime'], errors='coerce')\n",
    "\n",
    "    # Calculate the duration of each interval\n",
    "    df['interval_duration'] = df['end_timestamp'] - df['start_timestamp']\n",
    "    \n",
    "    # Group by (id, id_2) and check completeness\n",
    "    completeness_check = df.groupby(['id', 'id_2']).apply(\n",
    "        lambda x: (\n",
    "            x['interval_duration'].sum() >= pd.Timedelta(days=7) \n",
    "            and x['start_timestamp'].min().time() == pd.Timestamp('00:00:00').time()\n",
    "            and x['end_timestamp'].max().time() == pd.Timestamp('23:59:59').time()\n",
    "        )\n",
    "    )\n",
    "    \n",
    "    return completeness_check\n",
    "\n",
    "# Assuming 'data' contains the dataset-2.csv file read as a DataFrame\n",
    "file_path = 'C:\\\\Users\\\\HP\\\\Downloads\\\\dataset-2.csv'\n",
    "data = pd.read_csv(file_path)\n",
    "\n",
    "# Call the function with the DataFrame\n",
    "result = check_time_completeness(data)\n",
    "print(result)"
   ]
  },
  {
   "cell_type": "code",
   "execution_count": null,
   "id": "78212a5c",
   "metadata": {},
   "outputs": [],
   "source": []
  }
 ],
 "metadata": {
  "kernelspec": {
   "display_name": "Python 3 (ipykernel)",
   "language": "python",
   "name": "python3"
  },
  "language_info": {
   "codemirror_mode": {
    "name": "ipython",
    "version": 3
   },
   "file_extension": ".py",
   "mimetype": "text/x-python",
   "name": "python",
   "nbconvert_exporter": "python",
   "pygments_lexer": "ipython3",
   "version": "3.9.12"
  }
 },
 "nbformat": 4,
 "nbformat_minor": 5
}
